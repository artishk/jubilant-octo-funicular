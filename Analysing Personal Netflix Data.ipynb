{
 "cells": [
  {
   "cell_type": "markdown",
   "metadata": {},
   "source": [
    "### Step 1. Load Your Data into a Jupyter Notebook"
   ]
  },
  {
   "cell_type": "code",
   "execution_count": 3,
   "metadata": {},
   "outputs": [],
   "source": [
    "import pandas as pd"
   ]
  },
  {
   "cell_type": "code",
   "execution_count": 26,
   "metadata": {},
   "outputs": [],
   "source": [
    "data =(r'C:\\Users\\shiv8\\OneDrive\\Desktop\\datafoltz\\ViewingActivity.csv')"
   ]
  },
  {
   "cell_type": "code",
   "execution_count": 27,
   "metadata": {},
   "outputs": [],
   "source": [
    "df = pd.read_csv(data)"
   ]
  },
  {
   "cell_type": "markdown",
   "metadata": {},
   "source": [
    "Now, let's do a quick preview of the data to make sure everything looks correct. We'll start with df.shape, which will tell us the number of rows and columns in the dataframe we've just created."
   ]
  },
  {
   "cell_type": "code",
   "execution_count": 28,
   "metadata": {},
   "outputs": [
    {
     "data": {
      "text/plain": [
       "(5445, 10)"
      ]
     },
     "execution_count": 28,
     "metadata": {},
     "output_type": "execute_result"
    }
   ],
   "source": [
    "df.shape"
   ]
  },
  {
   "cell_type": "markdown",
   "metadata": {},
   "source": [
    "That result means we have 5445 rows and 10 columns. Now, let's see what it looks like by previewing the first few rows of data using df.head().\n",
    "\n",
    "To maintain some privacy, I'll be adding the additional argument 1 inside the .head() parentheses so that only a single row prints in this blog post. In your own analysis, however, you can use the default .head() to print the first five rows"
   ]
  },
  {
   "cell_type": "code",
   "execution_count": 29,
   "metadata": {},
   "outputs": [
    {
     "data": {
      "text/html": [
       "<div>\n",
       "<style scoped>\n",
       "    .dataframe tbody tr th:only-of-type {\n",
       "        vertical-align: middle;\n",
       "    }\n",
       "\n",
       "    .dataframe tbody tr th {\n",
       "        vertical-align: top;\n",
       "    }\n",
       "\n",
       "    .dataframe thead th {\n",
       "        text-align: right;\n",
       "    }\n",
       "</style>\n",
       "<table border=\"1\" class=\"dataframe\">\n",
       "  <thead>\n",
       "    <tr style=\"text-align: right;\">\n",
       "      <th></th>\n",
       "      <th>Profile Name</th>\n",
       "      <th>Start Time</th>\n",
       "      <th>Duration</th>\n",
       "      <th>Attributes</th>\n",
       "      <th>Title</th>\n",
       "      <th>Supplemental Video Type</th>\n",
       "      <th>Device Type</th>\n",
       "      <th>Bookmark</th>\n",
       "      <th>Latest Bookmark</th>\n",
       "      <th>Country</th>\n",
       "    </tr>\n",
       "  </thead>\n",
       "  <tbody>\n",
       "    <tr>\n",
       "      <th>0</th>\n",
       "      <td>Ninja</td>\n",
       "      <td>11-11-2020 14:51</td>\n",
       "      <td>00:19:41</td>\n",
       "      <td>NaN</td>\n",
       "      <td>Friends: Season 4: The One with the Embryos (E...</td>\n",
       "      <td>NaN</td>\n",
       "      <td>Chrome PC (Cadmium)</td>\n",
       "      <td>00:20:08</td>\n",
       "      <td>00:20:08</td>\n",
       "      <td>AE (United Arab Emirates)</td>\n",
       "    </tr>\n",
       "    <tr>\n",
       "      <th>1</th>\n",
       "      <td>The Kehshiba</td>\n",
       "      <td>11-11-2020 13:57</td>\n",
       "      <td>00:01:11</td>\n",
       "      <td>NaN</td>\n",
       "      <td>Suits: Season 1: Rules of the Game (Episode 11)</td>\n",
       "      <td>NaN</td>\n",
       "      <td>Apple iPhone XR</td>\n",
       "      <td>00:13:34</td>\n",
       "      <td>00:13:34</td>\n",
       "      <td>IN (India)</td>\n",
       "    </tr>\n",
       "    <tr>\n",
       "      <th>2</th>\n",
       "      <td>The Kehshiba</td>\n",
       "      <td>11-11-2020 12:03</td>\n",
       "      <td>00:13:26</td>\n",
       "      <td>NaN</td>\n",
       "      <td>Suits: Season 1: Rules of the Game (Episode 11)</td>\n",
       "      <td>NaN</td>\n",
       "      <td>Apple iPhone XR</td>\n",
       "      <td>00:13:52</td>\n",
       "      <td>Not latest view</td>\n",
       "      <td>IN (India)</td>\n",
       "    </tr>\n",
       "    <tr>\n",
       "      <th>3</th>\n",
       "      <td>The Kehshiba</td>\n",
       "      <td>11-11-2020 11:43</td>\n",
       "      <td>00:20:25</td>\n",
       "      <td>NaN</td>\n",
       "      <td>Suits: Season 1: The Shelf Life (Episode 10)</td>\n",
       "      <td>NaN</td>\n",
       "      <td>Apple iPhone XR</td>\n",
       "      <td>00:42:03</td>\n",
       "      <td>00:42:03</td>\n",
       "      <td>IN (India)</td>\n",
       "    </tr>\n",
       "    <tr>\n",
       "      <th>4</th>\n",
       "      <td>The Jasbir</td>\n",
       "      <td>11-11-2020 11:08</td>\n",
       "      <td>00:11:19</td>\n",
       "      <td>Autoplayed: user action: Unspecified;</td>\n",
       "      <td>Transformers: Robots in Disguise: Season 1: Ou...</td>\n",
       "      <td>NaN</td>\n",
       "      <td>FireTV Stick 2016</td>\n",
       "      <td>00:11:08</td>\n",
       "      <td>00:11:08</td>\n",
       "      <td>IN (India)</td>\n",
       "    </tr>\n",
       "  </tbody>\n",
       "</table>\n",
       "</div>"
      ],
      "text/plain": [
       "   Profile Name        Start Time  Duration  \\\n",
       "0         Ninja  11-11-2020 14:51  00:19:41   \n",
       "1  The Kehshiba  11-11-2020 13:57  00:01:11   \n",
       "2  The Kehshiba  11-11-2020 12:03  00:13:26   \n",
       "3  The Kehshiba  11-11-2020 11:43  00:20:25   \n",
       "4    The Jasbir  11-11-2020 11:08  00:11:19   \n",
       "\n",
       "                               Attributes  \\\n",
       "0                                     NaN   \n",
       "1                                     NaN   \n",
       "2                                     NaN   \n",
       "3                                     NaN   \n",
       "4  Autoplayed: user action: Unspecified;    \n",
       "\n",
       "                                               Title Supplemental Video Type  \\\n",
       "0  Friends: Season 4: The One with the Embryos (E...                     NaN   \n",
       "1    Suits: Season 1: Rules of the Game (Episode 11)                     NaN   \n",
       "2    Suits: Season 1: Rules of the Game (Episode 11)                     NaN   \n",
       "3       Suits: Season 1: The Shelf Life (Episode 10)                     NaN   \n",
       "4  Transformers: Robots in Disguise: Season 1: Ou...                     NaN   \n",
       "\n",
       "           Device Type  Bookmark  Latest Bookmark                    Country  \n",
       "0  Chrome PC (Cadmium)  00:20:08         00:20:08  AE (United Arab Emirates)  \n",
       "1      Apple iPhone XR  00:13:34         00:13:34                 IN (India)  \n",
       "2      Apple iPhone XR  00:13:52  Not latest view                 IN (India)  \n",
       "3      Apple iPhone XR  00:42:03         00:42:03                 IN (India)  \n",
       "4    FireTV Stick 2016  00:11:08         00:11:08                 IN (India)  "
      ]
     },
     "execution_count": 29,
     "metadata": {},
     "output_type": "execute_result"
    }
   ],
   "source": [
    "df.head()"
   ]
  },
  {
   "cell_type": "markdown",
   "metadata": {},
   "source": [
    "### Step 2.Preparing the Data for Analysis\n",
    "Before we can do our number-crunching, let's clean up this data a bit to make it easier to work with.\n",
    "\n",
    "Dropping Unnecessary Columns (Optional) First, we'll start by dropping the columns we're not planning to use. This is totally optional, and it's probably not a good idea for large-scale or ongoing projects. But for a small-scale personal project like this, it can be nice to work with a dataframe that includes only columns we're actually using.\n",
    "\n",
    "In this case, we're planning to analyze how much and when I've watched The Office, so we'll need to keep the Start Time, Duration, and Title columns. Everything else can go.\n",
    "\n",
    "To do this, we'll use df.drop() and pass it two arguments:\n",
    "\n",
    "A list of the columns we'd like to drop axis=1, which tells pandas to drop columns Here's what it looks like:"
   ]
  },
  {
   "cell_type": "code",
   "execution_count": 30,
   "metadata": {},
   "outputs": [
    {
     "data": {
      "text/html": [
       "<div>\n",
       "<style scoped>\n",
       "    .dataframe tbody tr th:only-of-type {\n",
       "        vertical-align: middle;\n",
       "    }\n",
       "\n",
       "    .dataframe tbody tr th {\n",
       "        vertical-align: top;\n",
       "    }\n",
       "\n",
       "    .dataframe thead th {\n",
       "        text-align: right;\n",
       "    }\n",
       "</style>\n",
       "<table border=\"1\" class=\"dataframe\">\n",
       "  <thead>\n",
       "    <tr style=\"text-align: right;\">\n",
       "      <th></th>\n",
       "      <th>Start Time</th>\n",
       "      <th>Duration</th>\n",
       "      <th>Title</th>\n",
       "    </tr>\n",
       "  </thead>\n",
       "  <tbody>\n",
       "    <tr>\n",
       "      <th>0</th>\n",
       "      <td>11-11-2020 14:51</td>\n",
       "      <td>00:19:41</td>\n",
       "      <td>Friends: Season 4: The One with the Embryos (E...</td>\n",
       "    </tr>\n",
       "    <tr>\n",
       "      <th>1</th>\n",
       "      <td>11-11-2020 13:57</td>\n",
       "      <td>00:01:11</td>\n",
       "      <td>Suits: Season 1: Rules of the Game (Episode 11)</td>\n",
       "    </tr>\n",
       "    <tr>\n",
       "      <th>2</th>\n",
       "      <td>11-11-2020 12:03</td>\n",
       "      <td>00:13:26</td>\n",
       "      <td>Suits: Season 1: Rules of the Game (Episode 11)</td>\n",
       "    </tr>\n",
       "    <tr>\n",
       "      <th>3</th>\n",
       "      <td>11-11-2020 11:43</td>\n",
       "      <td>00:20:25</td>\n",
       "      <td>Suits: Season 1: The Shelf Life (Episode 10)</td>\n",
       "    </tr>\n",
       "    <tr>\n",
       "      <th>4</th>\n",
       "      <td>11-11-2020 11:08</td>\n",
       "      <td>00:11:19</td>\n",
       "      <td>Transformers: Robots in Disguise: Season 1: Ou...</td>\n",
       "    </tr>\n",
       "  </tbody>\n",
       "</table>\n",
       "</div>"
      ],
      "text/plain": [
       "         Start Time  Duration  \\\n",
       "0  11-11-2020 14:51  00:19:41   \n",
       "1  11-11-2020 13:57  00:01:11   \n",
       "2  11-11-2020 12:03  00:13:26   \n",
       "3  11-11-2020 11:43  00:20:25   \n",
       "4  11-11-2020 11:08  00:11:19   \n",
       "\n",
       "                                               Title  \n",
       "0  Friends: Season 4: The One with the Embryos (E...  \n",
       "1    Suits: Season 1: Rules of the Game (Episode 11)  \n",
       "2    Suits: Season 1: Rules of the Game (Episode 11)  \n",
       "3       Suits: Season 1: The Shelf Life (Episode 10)  \n",
       "4  Transformers: Robots in Disguise: Season 1: Ou...  "
      ]
     },
     "execution_count": 30,
     "metadata": {},
     "output_type": "execute_result"
    }
   ],
   "source": [
    "df = df.drop(['Profile Name', 'Attributes', 'Supplemental Video Type', 'Device Type', 'Bookmark', 'Latest Bookmark', 'Country'], axis=1)\n",
    "df.head(5)"
   ]
  },
  {
   "cell_type": "markdown",
   "metadata": {},
   "source": [
    "Great! Next, let's work with the time data.\n",
    "\n",
    "Converting Strings to Datetime and Timedelta in Pandas The data in our two time-related columns certainly looks correct, but what format is this data actually being stored in? We can use df.dtypes to get a quick list of the data types for each column in our dataframe:"
   ]
  },
  {
   "cell_type": "code",
   "execution_count": 31,
   "metadata": {},
   "outputs": [
    {
     "data": {
      "text/plain": [
       "Start Time    object\n",
       "Duration      object\n",
       "Title         object\n",
       "dtype: object"
      ]
     },
     "execution_count": 31,
     "metadata": {},
     "output_type": "execute_result"
    }
   ],
   "source": [
    "df.dtypes"
   ]
  },
  {
   "cell_type": "markdown",
   "metadata": {},
   "source": [
    "As we can see here, all three columns are stored as object, which means they're strings. That's fine for the Title column, but we need to change the two time-related columns into the correct datatypes before we can work with them.\n",
    "\n",
    "Specifically, we need to do the following:\n",
    "\n",
    "Convert Start Time to datetime (a data and time format pandas can understand and perform calculations with) Convert Start Time from UTC to our local timezone Convert Duration to timedelta (a time duration format pandas can understand and perform calculations with) So, let's approach those tasks in that order, starting with converting Start Time to datetime using pandas's pd.to_datetime().\n",
    "\n",
    "We'll also add the optional argument utc=True so that our datetime data has the UTC timezone attached to it. This is important, since we'll need to convert it to a different timezone in the next step.\n",
    "\n",
    "We'll then run df.dtypes again just to confirm that this has worked as expected."
   ]
  },
  {
   "cell_type": "code",
   "execution_count": 32,
   "metadata": {},
   "outputs": [
    {
     "data": {
      "text/plain": [
       "Start Time    datetime64[ns, UTC]\n",
       "Duration                   object\n",
       "Title                      object\n",
       "dtype: object"
      ]
     },
     "execution_count": 32,
     "metadata": {},
     "output_type": "execute_result"
    }
   ],
   "source": [
    "df['Start Time'] = pd.to_datetime(df['Start Time'], utc=True)\n",
    "df.dtypes"
   ]
  },
  {
   "cell_type": "markdown",
   "metadata": {},
   "source": [
    "Now I've got that column in the correct format, it's time to change the timezone so that when I do my  analysis, I'll see everything in local time.\n",
    "\n",
    "I can  also convert datetimes to any timezone using the .tz_convert() and passing it an argument with the string for the timezone we want to convert to. In this case, that's 'US/Eastern'. To find your specific timezone, here's [a handy reference of TZ timezone options](https://en.wikipedia.org/wiki/List_of_tz_database_time_zones).\n",
    "\n",
    "The tricky bit here is that I can only use .tz_convert() on a DatetimeIndex, so I need to set our Start Time column as the index using set_index() before I perform the conversion.\n",
    "and then  using  reset_index() to turn it back into a regular column afterwards. Depending on the preference and goals, this may not be necessary, but for the purposes of simplicity here, I'll try to do my analysis with all of our data in columns rather than having some of it as the index.\n",
    "\n",
    "Putting all of that together looks like this:"
   ]
  },
  {
   "cell_type": "code",
   "execution_count": 33,
   "metadata": {},
   "outputs": [
    {
     "data": {
      "text/html": [
       "<div>\n",
       "<style scoped>\n",
       "    .dataframe tbody tr th:only-of-type {\n",
       "        vertical-align: middle;\n",
       "    }\n",
       "\n",
       "    .dataframe tbody tr th {\n",
       "        vertical-align: top;\n",
       "    }\n",
       "\n",
       "    .dataframe thead th {\n",
       "        text-align: right;\n",
       "    }\n",
       "</style>\n",
       "<table border=\"1\" class=\"dataframe\">\n",
       "  <thead>\n",
       "    <tr style=\"text-align: right;\">\n",
       "      <th></th>\n",
       "      <th>Start Time</th>\n",
       "      <th>Duration</th>\n",
       "      <th>Title</th>\n",
       "    </tr>\n",
       "  </thead>\n",
       "  <tbody>\n",
       "    <tr>\n",
       "      <th>0</th>\n",
       "      <td>2020-11-11 09:51:00-05:00</td>\n",
       "      <td>00:19:41</td>\n",
       "      <td>Friends: Season 4: The One with the Embryos (E...</td>\n",
       "    </tr>\n",
       "  </tbody>\n",
       "</table>\n",
       "</div>"
      ],
      "text/plain": [
       "                 Start Time  Duration  \\\n",
       "0 2020-11-11 09:51:00-05:00  00:19:41   \n",
       "\n",
       "                                               Title  \n",
       "0  Friends: Season 4: The One with the Embryos (E...  "
      ]
     },
     "execution_count": 33,
     "metadata": {},
     "output_type": "execute_result"
    }
   ],
   "source": [
    "# change the Start Time column into the dataframe's index\n",
    "df = df.set_index('Start Time')\n",
    "\n",
    "# convert from UTC timezone to eastern time\n",
    "df.index = df.index.tz_convert('US/Eastern')\n",
    "\n",
    "# reset the index so that Start Time becomes a column again\n",
    "df = df.reset_index()\n",
    "\n",
    "#double-check that it worked\n",
    "df.head(1)"
   ]
  },
  {
   "cell_type": "markdown",
   "metadata": {},
   "source": [
    "Now, let's deal with the  Duration column. This is, as the name suggests, a duration — a measure of a length of time. So, rather than converting it to a datetime, lets  convert it to a timedelta, which is a measure of time duration that pandas understands.\n",
    "\n",
    "This is very similar to what I did when converting the Start Time column. I'll just need to use pd.to_timedelta() and pass it the column I want to convert as an argument.\n",
    "\n",
    "Once again, I'll use df.dtypes to quickly check my  work."
   ]
  },
  {
   "cell_type": "code",
   "execution_count": 34,
   "metadata": {},
   "outputs": [
    {
     "data": {
      "text/plain": [
       "Start Time    datetime64[ns, US/Eastern]\n",
       "Duration                 timedelta64[ns]\n",
       "Title                             object\n",
       "dtype: object"
      ]
     },
     "execution_count": 34,
     "metadata": {},
     "output_type": "execute_result"
    }
   ],
   "source": [
    "df['Duration'] = pd.to_timedelta(df['Duration'])\n",
    "df.dtypes"
   ]
  },
  {
   "cell_type": "markdown",
   "metadata": {},
   "source": [
    "Perfect! But I've got one more data preparation task to handle: filtering that Title column so that I can analyze only views of 'ARROW'"
   ]
  },
  {
   "cell_type": "markdown",
   "metadata": {},
   "source": [
    "### Step 3. Filtering Strings by Substring in pandas Using str.contains"
   ]
  },
  {
   "cell_type": "markdown",
   "metadata": {},
   "source": [
    "Filtering Strings by Substring in pandas Using str.contains There are many ways I could approach filtering The Arrow views.  here, though, I am going to create a new dataframe called Arrow and populate it only with rows where the Title column contains 'Arrow'.\n",
    "\n",
    "I can do this using str.contains(), giving it two arguments:\n",
    "\n",
    "'Arrow', which is the substring I am using to pick out only episodes of The Arrow. regex=False, which tells the function that the previous argument is a string and not a regular expression. Here's what it looks like in practice"
   ]
  },
  {
   "cell_type": "code",
   "execution_count": 35,
   "metadata": {},
   "outputs": [
    {
     "data": {
      "text/html": [
       "<div>\n",
       "<style scoped>\n",
       "    .dataframe tbody tr th:only-of-type {\n",
       "        vertical-align: middle;\n",
       "    }\n",
       "\n",
       "    .dataframe tbody tr th {\n",
       "        vertical-align: top;\n",
       "    }\n",
       "\n",
       "    .dataframe thead th {\n",
       "        text-align: right;\n",
       "    }\n",
       "</style>\n",
       "<table border=\"1\" class=\"dataframe\">\n",
       "  <thead>\n",
       "    <tr style=\"text-align: right;\">\n",
       "      <th></th>\n",
       "      <th>Start Time</th>\n",
       "      <th>Duration</th>\n",
       "      <th>Title</th>\n",
       "    </tr>\n",
       "  </thead>\n",
       "  <tbody>\n",
       "    <tr>\n",
       "      <th>72</th>\n",
       "      <td>2020-10-11 04:41:00-04:00</td>\n",
       "      <td>00:00:02</td>\n",
       "      <td>Arrow: Season 6: Tribute (Episode 2)</td>\n",
       "    </tr>\n",
       "    <tr>\n",
       "      <th>78</th>\n",
       "      <td>2020-10-11 03:20:00-04:00</td>\n",
       "      <td>00:09:48</td>\n",
       "      <td>Arrow: Season 6: The Fallout (Episode 1)</td>\n",
       "    </tr>\n",
       "    <tr>\n",
       "      <th>79</th>\n",
       "      <td>2020-10-11 03:19:00-04:00</td>\n",
       "      <td>00:00:38</td>\n",
       "      <td>Arrow: Season 6: The Fallout (Episode 1)</td>\n",
       "    </tr>\n",
       "    <tr>\n",
       "      <th>83</th>\n",
       "      <td>2020-10-11 02:23:00-04:00</td>\n",
       "      <td>00:30:24</td>\n",
       "      <td>Arrow: Season 6: The Fallout (Episode 1)</td>\n",
       "    </tr>\n",
       "    <tr>\n",
       "      <th>88</th>\n",
       "      <td>2020-10-11 01:13:00-04:00</td>\n",
       "      <td>00:41:11</td>\n",
       "      <td>Arrow: Season 5: Lian Yu (Episode 23)</td>\n",
       "    </tr>\n",
       "    <tr>\n",
       "      <th>...</th>\n",
       "      <td>...</td>\n",
       "      <td>...</td>\n",
       "      <td>...</td>\n",
       "    </tr>\n",
       "    <tr>\n",
       "      <th>1459</th>\n",
       "      <td>2020-03-10 15:48:00-04:00</td>\n",
       "      <td>00:02:21</td>\n",
       "      <td>Arrow: Season 1: Honor Thy Father (Episode 2)</td>\n",
       "    </tr>\n",
       "    <tr>\n",
       "      <th>1460</th>\n",
       "      <td>2020-03-10 15:00:00-04:00</td>\n",
       "      <td>00:41:59</td>\n",
       "      <td>Arrow: Season 1: Pilot (Episode 1)</td>\n",
       "    </tr>\n",
       "    <tr>\n",
       "      <th>1461</th>\n",
       "      <td>2020-03-10 15:00:00-04:00</td>\n",
       "      <td>00:00:06</td>\n",
       "      <td>Arrow: Season 7_hook_primary_16x9</td>\n",
       "    </tr>\n",
       "    <tr>\n",
       "      <th>1496</th>\n",
       "      <td>2020-02-10 13:08:00-05:00</td>\n",
       "      <td>00:00:17</td>\n",
       "      <td>Arrow: Season 1: Pilot (Episode 1)</td>\n",
       "    </tr>\n",
       "    <tr>\n",
       "      <th>1497</th>\n",
       "      <td>2020-02-10 13:06:00-05:00</td>\n",
       "      <td>00:01:10</td>\n",
       "      <td>Arrow: Season 7_hook_primary_16x9</td>\n",
       "    </tr>\n",
       "  </tbody>\n",
       "</table>\n",
       "<p>252 rows × 3 columns</p>\n",
       "</div>"
      ],
      "text/plain": [
       "                    Start Time Duration  \\\n",
       "72   2020-10-11 04:41:00-04:00 00:00:02   \n",
       "78   2020-10-11 03:20:00-04:00 00:09:48   \n",
       "79   2020-10-11 03:19:00-04:00 00:00:38   \n",
       "83   2020-10-11 02:23:00-04:00 00:30:24   \n",
       "88   2020-10-11 01:13:00-04:00 00:41:11   \n",
       "...                        ...      ...   \n",
       "1459 2020-03-10 15:48:00-04:00 00:02:21   \n",
       "1460 2020-03-10 15:00:00-04:00 00:41:59   \n",
       "1461 2020-03-10 15:00:00-04:00 00:00:06   \n",
       "1496 2020-02-10 13:08:00-05:00 00:00:17   \n",
       "1497 2020-02-10 13:06:00-05:00 00:01:10   \n",
       "\n",
       "                                              Title  \n",
       "72             Arrow: Season 6: Tribute (Episode 2)  \n",
       "78         Arrow: Season 6: The Fallout (Episode 1)  \n",
       "79         Arrow: Season 6: The Fallout (Episode 1)  \n",
       "83         Arrow: Season 6: The Fallout (Episode 1)  \n",
       "88            Arrow: Season 5: Lian Yu (Episode 23)  \n",
       "...                                             ...  \n",
       "1459  Arrow: Season 1: Honor Thy Father (Episode 2)  \n",
       "1460             Arrow: Season 1: Pilot (Episode 1)  \n",
       "1461              Arrow: Season 7_hook_primary_16x9  \n",
       "1496             Arrow: Season 1: Pilot (Episode 1)  \n",
       "1497              Arrow: Season 7_hook_primary_16x9  \n",
       "\n",
       "[252 rows x 3 columns]"
      ]
     },
     "execution_count": 35,
     "metadata": {},
     "output_type": "execute_result"
    }
   ],
   "source": [
    "# create a new dataframe called office that that takes from df\n",
    "# only the rows in which the Title column contains 'The Office (U.S.)'\n",
    "Arrow = df[df['Title'].str.contains('Arrow', regex=False)]\n",
    "Arrow\n"
   ]
  },
  {
   "cell_type": "markdown",
   "metadata": {},
   "source": [
    "Once  done this, there are a few ways I  could double-check my work. For example, I could use Arrow.sample(20) to inspect a random ten rows of our new Arrow dataframe. If all twenty rows contained Arrow episodes, I could be pretty confident things worked as expected.\n",
    "Though, I'll run Arrow.shape to check the size of the new dataframe. Since this dataframe should contain only my views of The Office, I should expect it to have significantly fewer rows than the 5000+ row df dataset."
   ]
  },
  {
   "cell_type": "code",
   "execution_count": 36,
   "metadata": {},
   "outputs": [
    {
     "data": {
      "text/plain": [
       "(252, 3)"
      ]
     },
     "execution_count": 36,
     "metadata": {},
     "output_type": "execute_result"
    }
   ],
   "source": [
    "Arrow.shape"
   ]
  },
  {
   "cell_type": "markdown",
   "metadata": {},
   "source": [
    "### Step 4.Filtering Out Short Durations Using Timedelta"
   ]
  },
  {
   "cell_type": "markdown",
   "metadata": {},
   "source": [
    "Filtering Out Short Durations Using Timedelta Before we really dig in and analyze, we should probably take one final step. I noticed in the data exploration that when something like an episode preview auto-plays on the homepage, it counts as a view in the data.\n",
    "\n",
    "However, watching two seconds of a trailer as I scroll past isn't the same as actually watching an episode! So let's filter Arrow dataframe down a little bit further by limiting it to only rows where the Duration value is greater than one minute. This should effectively count the watchtime for partially watched episodes, while filtering out those short, unavoidable \"preview\" views.\n",
    "\n",
    "Again, office.head() or office.sample() would be good ways to check my work here."
   ]
  },
  {
   "cell_type": "code",
   "execution_count": 37,
   "metadata": {},
   "outputs": [
    {
     "data": {
      "text/plain": [
       "(219, 3)"
      ]
     },
     "execution_count": 37,
     "metadata": {},
     "output_type": "execute_result"
    }
   ],
   "source": [
    "Arrow = Arrow[(Arrow['Duration'] > '0 days 00:01:00')]\n",
    "Arrow.shape"
   ]
  },
  {
   "cell_type": "code",
   "execution_count": 38,
   "metadata": {},
   "outputs": [
    {
     "data": {
      "text/plain": [
       "Timedelta('3 days 06:36:43')"
      ]
     },
     "execution_count": 38,
     "metadata": {},
     "output_type": "execute_result"
    }
   ],
   "source": [
    "Arrow['Duration'].sum()"
   ]
  },
  {
   "cell_type": "code",
   "execution_count": 39,
   "metadata": {},
   "outputs": [
    {
     "data": {
      "text/html": [
       "<div>\n",
       "<style scoped>\n",
       "    .dataframe tbody tr th:only-of-type {\n",
       "        vertical-align: middle;\n",
       "    }\n",
       "\n",
       "    .dataframe tbody tr th {\n",
       "        vertical-align: top;\n",
       "    }\n",
       "\n",
       "    .dataframe thead th {\n",
       "        text-align: right;\n",
       "    }\n",
       "</style>\n",
       "<table border=\"1\" class=\"dataframe\">\n",
       "  <thead>\n",
       "    <tr style=\"text-align: right;\">\n",
       "      <th></th>\n",
       "      <th>Start Time</th>\n",
       "      <th>Duration</th>\n",
       "      <th>Title</th>\n",
       "    </tr>\n",
       "  </thead>\n",
       "  <tbody>\n",
       "    <tr>\n",
       "      <th>78</th>\n",
       "      <td>2020-10-11 03:20:00-04:00</td>\n",
       "      <td>00:09:48</td>\n",
       "      <td>Arrow: Season 6: The Fallout (Episode 1)</td>\n",
       "    </tr>\n",
       "    <tr>\n",
       "      <th>83</th>\n",
       "      <td>2020-10-11 02:23:00-04:00</td>\n",
       "      <td>00:30:24</td>\n",
       "      <td>Arrow: Season 6: The Fallout (Episode 1)</td>\n",
       "    </tr>\n",
       "    <tr>\n",
       "      <th>88</th>\n",
       "      <td>2020-10-11 01:13:00-04:00</td>\n",
       "      <td>00:41:11</td>\n",
       "      <td>Arrow: Season 5: Lian Yu (Episode 23)</td>\n",
       "    </tr>\n",
       "    <tr>\n",
       "      <th>90</th>\n",
       "      <td>2020-10-11 01:04:00-04:00</td>\n",
       "      <td>00:08:47</td>\n",
       "      <td>Arrow: Season 5: Missing (Episode 22)</td>\n",
       "    </tr>\n",
       "    <tr>\n",
       "      <th>115</th>\n",
       "      <td>2020-09-11 11:29:00-04:00</td>\n",
       "      <td>00:32:11</td>\n",
       "      <td>Arrow: Season 5: Missing (Episode 22)</td>\n",
       "    </tr>\n",
       "    <tr>\n",
       "      <th>...</th>\n",
       "      <td>...</td>\n",
       "      <td>...</td>\n",
       "      <td>...</td>\n",
       "    </tr>\n",
       "    <tr>\n",
       "      <th>1457</th>\n",
       "      <td>2020-03-10 16:47:00-04:00</td>\n",
       "      <td>00:23:16</td>\n",
       "      <td>Arrow: Season 1: Honor Thy Father (Episode 2)</td>\n",
       "    </tr>\n",
       "    <tr>\n",
       "      <th>1458</th>\n",
       "      <td>2020-03-10 16:19:00-04:00</td>\n",
       "      <td>00:15:18</td>\n",
       "      <td>Arrow: Season 1: Honor Thy Father (Episode 2)</td>\n",
       "    </tr>\n",
       "    <tr>\n",
       "      <th>1459</th>\n",
       "      <td>2020-03-10 15:48:00-04:00</td>\n",
       "      <td>00:02:21</td>\n",
       "      <td>Arrow: Season 1: Honor Thy Father (Episode 2)</td>\n",
       "    </tr>\n",
       "    <tr>\n",
       "      <th>1460</th>\n",
       "      <td>2020-03-10 15:00:00-04:00</td>\n",
       "      <td>00:41:59</td>\n",
       "      <td>Arrow: Season 1: Pilot (Episode 1)</td>\n",
       "    </tr>\n",
       "    <tr>\n",
       "      <th>1497</th>\n",
       "      <td>2020-02-10 13:06:00-05:00</td>\n",
       "      <td>00:01:10</td>\n",
       "      <td>Arrow: Season 7_hook_primary_16x9</td>\n",
       "    </tr>\n",
       "  </tbody>\n",
       "</table>\n",
       "<p>219 rows × 3 columns</p>\n",
       "</div>"
      ],
      "text/plain": [
       "                    Start Time Duration  \\\n",
       "78   2020-10-11 03:20:00-04:00 00:09:48   \n",
       "83   2020-10-11 02:23:00-04:00 00:30:24   \n",
       "88   2020-10-11 01:13:00-04:00 00:41:11   \n",
       "90   2020-10-11 01:04:00-04:00 00:08:47   \n",
       "115  2020-09-11 11:29:00-04:00 00:32:11   \n",
       "...                        ...      ...   \n",
       "1457 2020-03-10 16:47:00-04:00 00:23:16   \n",
       "1458 2020-03-10 16:19:00-04:00 00:15:18   \n",
       "1459 2020-03-10 15:48:00-04:00 00:02:21   \n",
       "1460 2020-03-10 15:00:00-04:00 00:41:59   \n",
       "1497 2020-02-10 13:06:00-05:00 00:01:10   \n",
       "\n",
       "                                              Title  \n",
       "78         Arrow: Season 6: The Fallout (Episode 1)  \n",
       "83         Arrow: Season 6: The Fallout (Episode 1)  \n",
       "88            Arrow: Season 5: Lian Yu (Episode 23)  \n",
       "90            Arrow: Season 5: Missing (Episode 22)  \n",
       "115           Arrow: Season 5: Missing (Episode 22)  \n",
       "...                                             ...  \n",
       "1457  Arrow: Season 1: Honor Thy Father (Episode 2)  \n",
       "1458  Arrow: Season 1: Honor Thy Father (Episode 2)  \n",
       "1459  Arrow: Season 1: Honor Thy Father (Episode 2)  \n",
       "1460             Arrow: Season 1: Pilot (Episode 1)  \n",
       "1497              Arrow: Season 7_hook_primary_16x9  \n",
       "\n",
       "[219 rows x 3 columns]"
      ]
     },
     "execution_count": 39,
     "metadata": {},
     "output_type": "execute_result"
    }
   ],
   "source": [
    "Arrow"
   ]
  },
  {
   "cell_type": "markdown",
   "metadata": {},
   "source": [
    "### Step 5.Analyzing the Data"
   ]
  },
  {
   "cell_type": "markdown",
   "metadata": {},
   "source": [
    "How much time have I spent watching The Arrow? First, let's answer the big question: How much time have been  spent watching Arrow?\n",
    "\n",
    "Since I've already got the Duration column in a format that pandas can compute, answering this question is quite straightforward. I can use .sum() to add up the total duration"
   ]
  },
  {
   "cell_type": "code",
   "execution_count": 40,
   "metadata": {},
   "outputs": [
    {
     "data": {
      "text/plain": [
       "Timedelta('3 days 06:36:43')"
      ]
     },
     "execution_count": 40,
     "metadata": {},
     "output_type": "execute_result"
    }
   ],
   "source": [
    "Arrow['Duration'].sum()"
   ]
  },
  {
   "cell_type": "markdown",
   "metadata": {},
   "source": [
    "So,  total of 3 days, 6 hours, 36 minutes and 43 seconds have been spent watching Arrow on Netflix. That is . . . a lot.\n",
    "\n",
    "In my defense, that's over the course of a decade, and a good percentage of that time wasn't spent actively watching! When I'm doing brain-off work, working out, playing old video games, etc., I'll often turn on as a kind of background noise that I can zone in and out of. I also used to use it as a kind of white noise while falling asleep.\n",
    "\n",
    "But I am  not here to make excuses for my terrible lifestyle choices! Now that I've answered the big question, let's dig a little deeper into my Arrow-viewing habits:\n",
    "\n",
    "When do I watch Arrow? Let's answer this question in two different ways:\n",
    "\n",
    "On which days of the week have I watched the most Arrow episodes? During which hours of the day do I most often start Arrow episodes? I'll start with a little prep work that'll make these tasks a little more straightforward: creating new columns for \"weekday\" and \"hour\".\n",
    "\n",
    "I can use the .dt.weekday and .dt.hour methods on the Start Time column to do this and assign the results to new columns named weekday and hour:"
   ]
  },
  {
   "cell_type": "code",
   "execution_count": 41,
   "metadata": {},
   "outputs": [
    {
     "name": "stderr",
     "output_type": "stream",
     "text": [
      "<ipython-input-41-d71c02484491>:1: SettingWithCopyWarning: \n",
      "A value is trying to be set on a copy of a slice from a DataFrame.\n",
      "Try using .loc[row_indexer,col_indexer] = value instead\n",
      "\n",
      "See the caveats in the documentation: https://pandas.pydata.org/pandas-docs/stable/user_guide/indexing.html#returning-a-view-versus-a-copy\n",
      "  Arrow['weekday'] = Arrow['Start Time'].dt.weekday\n",
      "<ipython-input-41-d71c02484491>:2: SettingWithCopyWarning: \n",
      "A value is trying to be set on a copy of a slice from a DataFrame.\n",
      "Try using .loc[row_indexer,col_indexer] = value instead\n",
      "\n",
      "See the caveats in the documentation: https://pandas.pydata.org/pandas-docs/stable/user_guide/indexing.html#returning-a-view-versus-a-copy\n",
      "  Arrow['hour'] = Arrow['Start Time'].dt.hour\n"
     ]
    },
    {
     "data": {
      "text/html": [
       "<div>\n",
       "<style scoped>\n",
       "    .dataframe tbody tr th:only-of-type {\n",
       "        vertical-align: middle;\n",
       "    }\n",
       "\n",
       "    .dataframe tbody tr th {\n",
       "        vertical-align: top;\n",
       "    }\n",
       "\n",
       "    .dataframe thead th {\n",
       "        text-align: right;\n",
       "    }\n",
       "</style>\n",
       "<table border=\"1\" class=\"dataframe\">\n",
       "  <thead>\n",
       "    <tr style=\"text-align: right;\">\n",
       "      <th></th>\n",
       "      <th>Start Time</th>\n",
       "      <th>Duration</th>\n",
       "      <th>Title</th>\n",
       "      <th>weekday</th>\n",
       "      <th>hour</th>\n",
       "    </tr>\n",
       "  </thead>\n",
       "  <tbody>\n",
       "    <tr>\n",
       "      <th>78</th>\n",
       "      <td>2020-10-11 03:20:00-04:00</td>\n",
       "      <td>00:09:48</td>\n",
       "      <td>Arrow: Season 6: The Fallout (Episode 1)</td>\n",
       "      <td>6</td>\n",
       "      <td>3</td>\n",
       "    </tr>\n",
       "    <tr>\n",
       "      <th>83</th>\n",
       "      <td>2020-10-11 02:23:00-04:00</td>\n",
       "      <td>00:30:24</td>\n",
       "      <td>Arrow: Season 6: The Fallout (Episode 1)</td>\n",
       "      <td>6</td>\n",
       "      <td>2</td>\n",
       "    </tr>\n",
       "    <tr>\n",
       "      <th>88</th>\n",
       "      <td>2020-10-11 01:13:00-04:00</td>\n",
       "      <td>00:41:11</td>\n",
       "      <td>Arrow: Season 5: Lian Yu (Episode 23)</td>\n",
       "      <td>6</td>\n",
       "      <td>1</td>\n",
       "    </tr>\n",
       "    <tr>\n",
       "      <th>90</th>\n",
       "      <td>2020-10-11 01:04:00-04:00</td>\n",
       "      <td>00:08:47</td>\n",
       "      <td>Arrow: Season 5: Missing (Episode 22)</td>\n",
       "      <td>6</td>\n",
       "      <td>1</td>\n",
       "    </tr>\n",
       "    <tr>\n",
       "      <th>115</th>\n",
       "      <td>2020-09-11 11:29:00-04:00</td>\n",
       "      <td>00:32:11</td>\n",
       "      <td>Arrow: Season 5: Missing (Episode 22)</td>\n",
       "      <td>4</td>\n",
       "      <td>11</td>\n",
       "    </tr>\n",
       "  </tbody>\n",
       "</table>\n",
       "</div>"
      ],
      "text/plain": [
       "                   Start Time Duration  \\\n",
       "78  2020-10-11 03:20:00-04:00 00:09:48   \n",
       "83  2020-10-11 02:23:00-04:00 00:30:24   \n",
       "88  2020-10-11 01:13:00-04:00 00:41:11   \n",
       "90  2020-10-11 01:04:00-04:00 00:08:47   \n",
       "115 2020-09-11 11:29:00-04:00 00:32:11   \n",
       "\n",
       "                                        Title  weekday  hour  \n",
       "78   Arrow: Season 6: The Fallout (Episode 1)        6     3  \n",
       "83   Arrow: Season 6: The Fallout (Episode 1)        6     2  \n",
       "88      Arrow: Season 5: Lian Yu (Episode 23)        6     1  \n",
       "90      Arrow: Season 5: Missing (Episode 22)        6     1  \n",
       "115     Arrow: Season 5: Missing (Episode 22)        4    11  "
      ]
     },
     "execution_count": 41,
     "metadata": {},
     "output_type": "execute_result"
    }
   ],
   "source": [
    "Arrow['weekday'] = Arrow['Start Time'].dt.weekday\n",
    "Arrow['hour'] = Arrow['Start Time'].dt.hour\n",
    "\n",
    "# check to make sure the columns were added correctly\n",
    "Arrow.head(5)"
   ]
  },
  {
   "cell_type": "markdown",
   "metadata": {},
   "source": [
    "Now, let's do a little analysis! These results will be easier to understand visually, so I'll start by using the %matplotlib inline magic to make our charts show up in  Jupyter notebook. Then, I'll import matplotlib"
   ]
  },
  {
   "cell_type": "code",
   "execution_count": 42,
   "metadata": {},
   "outputs": [],
   "source": [
    "%matplotlib inline\n",
    "import matplotlib"
   ]
  },
  {
   "cell_type": "markdown",
   "metadata": {},
   "source": [
    "Now, let's plot a chart of my viewing habits by day of the week. To do this, we'll need to work through a few steps:\n",
    "\n",
    "Tell pandas the order we want to chart the days in using pd.Categorical — by default, it will plot them in descending order based on the number of episodes watched on each day, but when looking at a graph, it'll be more intuitive to see the data in Monday-Sunday order. Count the number of episodes I viewed on each day in total Sort and plot the data (There are also many other ways we could approach analyzing and visualizing this data.\n",
    "\n",
    "Let's see how it looks step by step:"
   ]
  },
  {
   "cell_type": "code",
   "execution_count": 43,
   "metadata": {},
   "outputs": [
    {
     "name": "stderr",
     "output_type": "stream",
     "text": [
      "<ipython-input-43-7e37a8a440bf>:2: SettingWithCopyWarning: \n",
      "A value is trying to be set on a copy of a slice from a DataFrame.\n",
      "Try using .loc[row_indexer,col_indexer] = value instead\n",
      "\n",
      "See the caveats in the documentation: https://pandas.pydata.org/pandas-docs/stable/user_guide/indexing.html#returning-a-view-versus-a-copy\n",
      "  Arrow['weekday'] = pd.Categorical(Arrow['weekday'], categories=\n"
     ]
    },
    {
     "data": {
      "text/plain": [
       "<matplotlib.axes._subplots.AxesSubplot at 0x1f1b9f10eb0>"
      ]
     },
     "execution_count": 43,
     "metadata": {},
     "output_type": "execute_result"
    },
    {
     "data": {
      "image/png": "[encoded data removed]",
      "text/plain": [
       "<Figure size 1440x720 with 1 Axes>"
      ]
     },
     "metadata": {
      "needs_background": "light"
     },
     "output_type": "display_data"
    }
   ],
   "source": [
    "# set our categorical and define the order so the days are plotted Monday-Sunday\n",
    "Arrow['weekday'] = pd.Categorical(Arrow['weekday'], categories=\n",
    "    [0,1,2,3,4,5,6],\n",
    "    ordered=True)\n",
    "\n",
    "# create Arrow_by_day and count the rows for each weekday, assigning the result to that variable\n",
    "Arrow_by_day = Arrow['weekday'].value_counts()\n",
    "\n",
    "# sort the index using our categorical, so that Monday (0) is first, Tuesday (1) is second, etc.\n",
    "Arrow_by_day = Arrow_by_day.sort_index()\n",
    "\n",
    "# optional: update the font size to make it a bit larger and easier to read\n",
    "matplotlib.rcParams.update({'font.size': 15})\n",
    "\n",
    "# plot Arrow_by_day as a bar chart with the listed size and title\n",
    "Arrow_by_day.plot(kind='bar', figsize=(20,10), title='Arrow Episodes Watched by Day')"
   ]
  },
  {
   "cell_type": "markdown",
   "metadata": {},
   "source": [
    "As I can see, I've actually tended to watch The Arrow more during first and last  day of  week\n",
    "\n",
    "Now, let's take a look at the same data by hour. The process here is very similar to what we just did above:"
   ]
  },
  {
   "cell_type": "code",
   "execution_count": 44,
   "metadata": {},
   "outputs": [
    {
     "name": "stderr",
     "output_type": "stream",
     "text": [
      "<ipython-input-44-96ce5771c5c8>:2: SettingWithCopyWarning: \n",
      "A value is trying to be set on a copy of a slice from a DataFrame.\n",
      "Try using .loc[row_indexer,col_indexer] = value instead\n",
      "\n",
      "See the caveats in the documentation: https://pandas.pydata.org/pandas-docs/stable/user_guide/indexing.html#returning-a-view-versus-a-copy\n",
      "  Arrow['hour'] = pd.Categorical(Arrow['hour'], categories=\n"
     ]
    },
    {
     "data": {
      "text/plain": [
       "<matplotlib.axes._subplots.AxesSubplot at 0x1f1ba0f11f0>"
      ]
     },
     "execution_count": 44,
     "metadata": {},
     "output_type": "execute_result"
    },
    {
     "data": {
      "image/png": "[encoded data removed]",
      "text/plain": [
       "<Figure size 1440x720 with 1 Axes>"
      ]
     },
     "metadata": {
      "needs_background": "light"
     },
     "output_type": "display_data"
    }
   ],
   "source": [
    "# set our categorical and define the order so the hours are plotted 0-23\n",
    "Arrow['hour'] = pd.Categorical(Arrow['hour'], categories=\n",
    "    [0,1,2,3,4,5,6,7,8,9,10,11,12,13,14,15,16,17,18,19,20,21,22,23],\n",
    "    ordered=True)\n",
    "\n",
    "# create office_by_hour and count the rows for each hour, assigning the result to that variable\n",
    "Arrow_by_hour = Arrow['hour'].value_counts()\n",
    "\n",
    "# sort the index using our categorical, so that midnight (0) is first, 1 a.m. (1) is second, etc.\n",
    "Arrow_by_hour = Arrow_by_hour.sort_index()\n",
    "\n",
    "# plot office_by_hour as a bar chart with the listed size and title\n",
    "Arrow_by_hour.plot(kind='bar', figsize=(20,10), title='Arrow Episodes Watched by Hour')"
   ]
  },
  {
   "cell_type": "markdown",
   "metadata": {},
   "source": [
    "From the data, it looks like 1 a.m. and 5 a.m. were the hours during which I most often started episodes of Arrow. This is due to my (unhealthy) habit of using the show as white noise while going to sleep — many of these episodes probably auto-played while I was already asleep!\n",
    "\n",
    "Outside of that, it's no surprise to see that most of my viewing happened  midnight onwards till 5 am and afterthat pace is average uptill 4pm.\n"
   ]
  },
  {
   "cell_type": "code",
   "execution_count": null,
   "metadata": {},
   "outputs": [],
   "source": []
  },
  {
   "cell_type": "code",
   "execution_count": null,
   "metadata": {},
   "outputs": [],
   "source": []
  }
 ],
 "metadata": {
  "kernelspec": {
   "display_name": "Python 3",
   "language": "python",
   "name": "python3"
  },
  "language_info": {
   "codemirror_mode": {
    "name": "ipython",
    "version": 3
   },
   "file_extension": ".py",
   "mimetype": "text/x-python",
   "name": "python",
   "nbconvert_exporter": "python",
   "pygments_lexer": "ipython3",
   "version": "3.8.3"
  }
 },
 "nbformat": 4,
 "nbformat_minor": 4
}
