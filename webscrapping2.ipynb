{
 "cells": [
  {
   "cell_type": "code",
   "execution_count": 1,
   "metadata": {},
   "outputs": [],
   "source": [
    "import selenium\n",
    "from selenium import webdriver\n",
    "from bs4 import BeautifulSoup\n"
   ]
  },
  {
   "cell_type": "code",
   "execution_count": 2,
   "metadata": {},
   "outputs": [],
   "source": [
    "driver = webdriver.Chrome(executable_path= r\"C:\\Users\\shiv8\\Downloads\\chromedriver.exe\")\n",
    "url = \"https://www.kaggle.com/datasets\"\n",
    "driver.get(url)\n"
   ]
  },
  {
   "cell_type": "code",
   "execution_count": 3,
   "metadata": {},
   "outputs": [],
   "source": [
    "soup = BeautifulSoup(driver.page_source,'lxml')"
   ]
  },
  {
   "cell_type": "code",
   "execution_count": 5,
   "metadata": {},
   "outputs": [
    {
     "data": {
      "text/plain": [
       "<li class=\"sc-prQTI sc-pQFoF iRKqfc sc-qOhZv bnIfUV\" data-testid=\"list-item-li\"><a class=\"sc-pYCbY kyjaWj\" href=\"/allen-institute-for-ai/CORD-19-research-challenge\" title=\"COVID-19 Open Research Dataset Challenge (CORD-19)\"></a><div class=\"sc-oUaAz daHVRm\"><img alt=\"#\" class=\"sc-pkSdh ehtynh\" src=\"https://storage.googleapis.com/kaggle-datasets-images/551982/1008364/5cde9da345ce9deab89b6dfdfc201c49/dataset-thumbnail.png?t=2020-03-14-01-34-32\"/><div class=\"sc-qYhdC jJANqp\"><div class=\"sc-Axmtr sc-fzoiQi sc-psOQA blGSsp\" data-testid=\"list-item-li-title\"><img alt=\"medal\" class=\"sc-qPmtr kVCIvB\" src=\"/static/images/medals/datasets/goldl@2x.png\"/>COVID-19 Open Research Dataset Challenge (CORD-19)</div><span class=\"sc-fznzOf sc-fznMnq sc-pkgFA gSTRHY\"><a class=\"sc-qQwPu jqOtmj\" href=\"/allen-institute-for-ai\"><span class=\"sc-pRPKI hzNspm sc-qYUgX sc-pBmid kdxqus\"><i class=\"rmwc-icon google-material-icons sc-AxgMl jSPtcK sc-qancl cwcKZk\" sizevalue=\"1.125em\" verticalalign=\"-0.125em\">person</i>Allen Institute For AI</span></a><span class=\"sc-pRPKI hzNspm sc-qYUgX jbYDId\"><i class=\"rmwc-icon google-material-icons sc-AxgMl jSPtcK sc-qancl cwcKZk\" sizevalue=\"1.125em\" verticalalign=\"-0.125em\">link</i>Link</span></span><span class=\"sc-fznzOf sc-fznMnq sc-psDXd kWObpm\"><span class=\"sc-pRPKI hzNspm sc-qYUgX jbYDId\"><i class=\"rmwc-icon google-material-icons sc-AxgMl jSPtcK sc-qancl cwcKZk\" sizevalue=\"1.125em\" verticalalign=\"-0.125em\">calendar_today</i>13 hours</span><span class=\"sc-pRPKI hzNspm sc-qYUgX sc-pRcHn hgAzRa\"><i class=\"rmwc-icon google-material-icons sc-AxgMl jSPtcK sc-qancl cwcKZk\" sizevalue=\"1.125em\" verticalalign=\"-0.125em\">database</i>5 GB</span><div class=\"sc-qZtCU gYnjXV sc-oTDcV effMkF\" currentitem=\"false\" data-for=\"tooltip_components_0\" data-tip=\"true\"><span class=\"sc-pRPKI hzNspm sc-oTpcS fiiuCc\"><i class=\"rmwc-icon google-material-icons sc-AxgMl jSPtcK sc-qancl cwcKZk\" sizevalue=\"1.125em\" verticalalign=\"-0.125em\">business_center</i>8.8</span><div class=\"__react_component_tooltip place-top type-dark\" data-id=\"tooltip\" id=\"tooltip_components_0\"><div class=\"sc-pzMyG ejxVHF\"><p class=\"sc-fzoyTs sc-fzoNJl sc-pbMuv cBorHg\">The documentation for this dataset is almost complete but is missing file descriptions</p></div></div></div><span class=\"sc-pRPKI hzNspm sc-pYZzC dNtbpe\"><i class=\"rmwc-icon google-material-icons sc-AxgMl jSPtcK sc-qancl cwcKZk\" sizevalue=\"1.125em\" verticalalign=\"-0.125em\">insert_drive_file</i>199039 Files (JSON, CSV, other)</span><span class=\"sc-pRPKI hzNspm sc-qYUgX sc-pRcHn hgAzRa\"><i class=\"rmwc-icon google-material-icons sc-AxgMl jSPtcK sc-qancl cwcKZk\" sizevalue=\"1.125em\" verticalalign=\"-0.125em\">content_paste</i>17 Tasks</span><span class=\"sc-pJjas iHsHBq\">8349 upvotes</span></span></div></div><div class=\"sc-pbXnS hMNvht\"><div class=\"sc-qQXoI XBhvs\"><div class=\"sc-prquu ZQtdF sc-pzNLX jkEMka\"><button class=\"MuiButtonBase-root MuiButton-root sc-qQKPx sc-qYHHM cpkfmh MuiButton-outlined Mui-disabled Mui-disabled\" data-testid=\"vote-button-icon\" disabled=\"\" state=\"no-vote\" tabindex=\"-1\" type=\"button\"><span class=\"MuiButton-label label\"><i class=\"rmwc-icon google-material-icons sc-AxgMl eRwiFs\" sizevalue=\"24px\">keyboard_arrow_up</i></span></button><button class=\"MuiButtonBase-root MuiButton-root sc-qQKPx sc-pByHo jPwYCy MuiButton-outlined Mui-disabled Mui-disabled\" disabled=\"\" state=\"no-vote\" tabindex=\"-1\" type=\"button\"><span class=\"MuiButton-label label\">8349</span></button></div></div></div></li>"
      ]
     },
     "execution_count": 5,
     "metadata": {},
     "output_type": "execute_result"
    }
   ],
   "source": [
    "li=soup.find('li',class_=\"sc-prQTI sc-pQFoF iRKqfc sc-qOhZv bnIfUV\")\n",
    "li"
   ]
  },
  {
   "cell_type": "code",
   "execution_count": 10,
   "metadata": {},
   "outputs": [
    {
     "data": {
      "text/plain": [
       "[<a class=\"sc-pYCbY kyjaWj\" href=\"/allen-institute-for-ai/CORD-19-research-challenge\" title=\"COVID-19 Open Research Dataset Challenge (CORD-19)\"></a>,\n",
       " <a class=\"sc-pYCbY kyjaWj\" href=\"/mlg-ulb/creditcardfraud\" title=\"Credit Card Fraud Detection\"></a>,\n",
       " <a class=\"sc-pYCbY kyjaWj\" href=\"/sudalairajkumar/novel-corona-virus-2019-dataset\" title=\"Novel Corona Virus 2019 Dataset\"></a>,\n",
       " <a class=\"sc-pYCbY kyjaWj\" href=\"/ronitf/heart-disease-uci\" title=\"Heart Disease UCI\"></a>,\n",
       " <a class=\"sc-pYCbY kyjaWj\" href=\"/lava18/google-play-store-apps\" title=\"Google Play Store Apps\"></a>,\n",
       " <a class=\"sc-pYCbY kyjaWj\" href=\"/heeraldedhia/groceries-dataset\" title=\"Groceries dataset \"></a>,\n",
       " <a class=\"sc-pYCbY kyjaWj\" href=\"/andrewmvd/trip-advisor-hotel-reviews\" title=\"Trip Advisor Hotel Reviews\"></a>,\n",
       " <a class=\"sc-pYCbY kyjaWj\" href=\"/balraj98/stanford-background-dataset\" title=\"Stanford Background Dataset\"></a>,\n",
       " <a class=\"sc-pYCbY kyjaWj\" href=\"/nehaprabhavalkar/indian-food-101\" title=\"Indian Food 101\"></a>,\n",
       " <a class=\"sc-pYCbY kyjaWj\" href=\"/christianlillelund/donald-trumps-rallies\" title=\"Donald Trump's Rallies\"></a>,\n",
       " <a class=\"sc-pYCbY kyjaWj\" href=\"/jilkothari/finance-accounting-courses-udemy-13k-course\" title=\"Finance &amp; Accounting Courses - Udemy (13K+ course)\"></a>,\n",
       " <a class=\"sc-pYCbY kyjaWj\" href=\"/balraj98/massachusetts-roads-dataset\" title=\"Massachusetts Roads Dataset\"></a>,\n",
       " <a class=\"sc-pYCbY kyjaWj\" href=\"/arslanali4343/top-personality-dataset\" title=\"Top Personality Dataset \"></a>,\n",
       " <a class=\"sc-pYCbY kyjaWj\" href=\"/oldaandozerskaya/fiction-corpus-for-agebased-text-classification\" title=\"RusAge: Corpus for Age-Based Text Classification \"></a>,\n",
       " <a class=\"sc-pYCbY kyjaWj\" href=\"/gpreda/chinese-mnist\" title=\"Chinese MNIST\"></a>,\n",
       " <a class=\"sc-pYCbY kyjaWj\" href=\"/gpreda/local-elections-romania-2020\" title=\"Local Elections Romania 2020\"></a>,\n",
       " <a class=\"sc-pYCbY kyjaWj\" href=\"/anth7310/mental-health-in-the-tech-industry\" title=\"Mental Health in the Tech Industry\"></a>,\n",
       " <a class=\"sc-pYCbY kyjaWj\" href=\"/roshansharma/sanfranciso-crime-dataset\" title=\"Sanfranciso Crime Dataset\"></a>,\n",
       " <a class=\"sc-pYCbY kyjaWj\" href=\"/bppuneethpai/tldr-summary-for-man-pages\" title=\"TLDR summary for man pages\"></a>,\n",
       " <a class=\"sc-pYCbY kyjaWj\" href=\"/sterby/german-recipes-dataset\" title=\"German Recipes Dataset\"></a>,\n",
       " <a class=\"sc-pYCbY kyjaWj\" href=\"/arslanali4343/real-estate-dataset\" title=\"Real Estate DataSet\"></a>,\n",
       " <a class=\"sc-pYCbY kyjaWj\" href=\"/thomaskonstantin/top-270-rated-computer-science-programing-books\" title=\"Top 270 Computer Science / Programing Books \"></a>,\n",
       " <a class=\"sc-pYCbY kyjaWj\" href=\"/leangab/poe-short-stories-corpuscsv\" title=\"E.A. Poe's corpus of short stories\"></a>,\n",
       " <a class=\"sc-pYCbY kyjaWj\" href=\"/anmolkumar/health-insurance-cross-sell-prediction\" title=\"Health Insurance Cross Sell Prediction 🏠 🏥\"></a>,\n",
       " <a class=\"sc-pYCbY kyjaWj\" href=\"/ramjidoolla/ipl-data-set\" title=\"IPL _Data_Set\"></a>]"
      ]
     },
     "execution_count": 10,
     "metadata": {},
     "output_type": "execute_result"
    }
   ],
   "source": [
    "art=soup.find_all('a',class_=\"sc-pYCbY kyjaWj\")\n",
    "art"
   ]
  },
  {
   "cell_type": "code",
   "execution_count": 13,
   "metadata": {},
   "outputs": [
    {
     "name": "stdout",
     "output_type": "stream",
     "text": [
      "['COVID-19 Open Research Dataset Challenge (CORD-19)', 'Credit Card Fraud Detection', 'Novel Corona Virus 2019 Dataset', 'Heart Disease UCI', 'Google Play Store Apps', 'Groceries dataset ', 'Trip Advisor Hotel Reviews', 'Stanford Background Dataset', 'Indian Food 101', \"Donald Trump's Rallies\", 'Finance & Accounting Courses - Udemy (13K+ course)', 'Massachusetts Roads Dataset', 'Top Personality Dataset ', 'RusAge: Corpus for Age-Based Text Classification ', 'Chinese MNIST', 'Local Elections Romania 2020', 'Mental Health in the Tech Industry', 'Sanfranciso Crime Dataset', 'TLDR summary for man pages', 'German Recipes Dataset', 'Real Estate DataSet', 'Top 270 Computer Science / Programing Books ', \"E.A. Poe's corpus of short stories\", 'Health Insurance Cross Sell Prediction 🏠 🏥', 'IPL _Data_Set']\n"
     ]
    }
   ],
   "source": [
    "title=[]\n",
    "for i in art:\n",
    "    title.append(i.get('title','no title attribute'))\n",
    "print(title)     \n",
    "    "
   ]
  },
  {
   "cell_type": "code",
   "execution_count": 14,
   "metadata": {},
   "outputs": [
    {
     "data": {
      "text/plain": [
       "25"
      ]
     },
     "execution_count": 14,
     "metadata": {},
     "output_type": "execute_result"
    }
   ],
   "source": [
    "len(title)"
   ]
  },
  {
   "cell_type": "code",
   "execution_count": 17,
   "metadata": {},
   "outputs": [
    {
     "name": "stdout",
     "output_type": "stream",
     "text": [
      "0 COVID-19 Open Research Dataset Challenge (CORD-19)\n",
      "1 Credit Card Fraud Detection\n",
      "2 Novel Corona Virus 2019 Dataset\n",
      "3 Heart Disease UCI\n",
      "4 Google Play Store Apps\n",
      "5 Groceries dataset \n",
      "6 Trip Advisor Hotel Reviews\n",
      "7 Stanford Background Dataset\n",
      "8 Indian Food 101\n",
      "9 Donald Trump's Rallies\n",
      "10 Finance & Accounting Courses - Udemy (13K+ course)\n",
      "11 Massachusetts Roads Dataset\n",
      "12 Top Personality Dataset \n",
      "13 RusAge: Corpus for Age-Based Text Classification \n",
      "14 Chinese MNIST\n",
      "15 Local Elections Romania 2020\n",
      "16 Mental Health in the Tech Industry\n",
      "17 Sanfranciso Crime Dataset\n",
      "18 TLDR summary for man pages\n",
      "19 German Recipes Dataset\n",
      "20 Real Estate DataSet\n",
      "21 Top 270 Computer Science / Programing Books \n",
      "22 E.A. Poe's corpus of short stories\n",
      "23 Health Insurance Cross Sell Prediction 🏠 🏥\n",
      "24 IPL _Data_Set\n"
     ]
    }
   ],
   "source": [
    "for i in range(len(title)):\n",
    "    print(i,title[i])"
   ]
  },
  {
   "cell_type": "code",
   "execution_count": null,
   "metadata": {},
   "outputs": [],
   "source": []
  },
  {
   "cell_type": "code",
   "execution_count": null,
   "metadata": {},
   "outputs": [],
   "source": []
  },
  {
   "cell_type": "code",
   "execution_count": null,
   "metadata": {},
   "outputs": [],
   "source": []
  },
  {
   "cell_type": "code",
   "execution_count": null,
   "metadata": {},
   "outputs": [],
   "source": []
  },
  {
   "cell_type": "code",
   "execution_count": null,
   "metadata": {},
   "outputs": [],
   "source": []
  }
 ],
 "metadata": {
  "kernelspec": {
   "display_name": "Python 3",
   "language": "python",
   "name": "python3"
  },
  "language_info": {
   "codemirror_mode": {
    "name": "ipython",
    "version": 3
   },
   "file_extension": ".py",
   "mimetype": "text/x-python",
   "name": "python",
   "nbconvert_exporter": "python",
   "pygments_lexer": "ipython3",
   "version": "3.8.3"
  }
 },
 "nbformat": 4,
 "nbformat_minor": 4
}
